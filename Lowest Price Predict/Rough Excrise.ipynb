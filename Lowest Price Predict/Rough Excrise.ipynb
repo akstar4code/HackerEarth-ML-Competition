{
 "cells": [
  {
   "cell_type": "code",
   "execution_count": 1,
   "metadata": {},
   "outputs": [],
   "source": [
    "import numpy as np\n",
    "import pandas as pd\n",
    "import matplotlib.pyplot as plt\n",
    "import seaborn as sns\n",
    "sns.set()\n",
    "%matplotlib inline"
   ]
  },
  {
   "cell_type": "code",
   "execution_count": 5,
   "metadata": {},
   "outputs": [
    {
     "data": {
      "text/plain": [
       "DatetimeIndex(['2020-01-07 00:00:00', '2020-01-07 01:00:00',\n",
       "               '2020-01-07 02:00:00', '2020-01-07 03:00:00',\n",
       "               '2020-01-07 04:00:00', '2020-01-07 05:00:00',\n",
       "               '2020-01-07 06:00:00', '2020-01-07 07:00:00',\n",
       "               '2020-01-07 08:00:00', '2020-01-07 09:00:00',\n",
       "               '2020-01-07 10:00:00', '2020-01-07 11:00:00'],\n",
       "              dtype='datetime64[ns]', freq='H')"
      ]
     },
     "execution_count": 5,
     "metadata": {},
     "output_type": "execute_result"
    }
   ],
   "source": [
    "date = pd.date_range('1/7/2020',periods=12,freq='H')\n",
    "date"
   ]
  },
  {
   "cell_type": "code",
   "execution_count": 10,
   "metadata": {},
   "outputs": [],
   "source": [
    "import datetime as dt\n",
    "x = dt.datetime.now()"
   ]
  },
  {
   "cell_type": "code",
   "execution_count": 14,
   "metadata": {},
   "outputs": [
    {
     "name": "stdout",
     "output_type": "stream",
     "text": [
      "7 2020\n"
     ]
    }
   ],
   "source": [
    "print(x.month,x.year)"
   ]
  },
  {
   "cell_type": "code",
   "execution_count": 17,
   "metadata": {},
   "outputs": [
    {
     "name": "stdout",
     "output_type": "stream",
     "text": [
      "2\n",
      "5\n",
      "AAA 0 BBB 7\n",
      "B\n",
      "6\n",
      "AAA 0 BBB 5\n",
      "B\n"
     ]
    }
   ],
   "source": [
    "a,b = 0,7\n",
    "for _ in range(int(input())):\n",
    "    n = int(input())\n",
    "    x = abs(n-a)\n",
    "    y = abs(n-b)\n",
    "    print('AAA',a,'BBB',b)\n",
    "    if x>y:\n",
    "        print('B')\n",
    "        b = n\n",
    "    elif x<y:\n",
    "        print('A')\n",
    "        a = n\n",
    "    else:\n",
    "        print('A')\n",
    "        a = n"
   ]
  },
  {
   "cell_type": "code",
   "execution_count": null,
   "metadata": {},
   "outputs": [],
   "source": []
  }
 ],
 "metadata": {
  "kernelspec": {
   "display_name": "Python 3",
   "language": "python",
   "name": "python3"
  },
  "language_info": {
   "codemirror_mode": {
    "name": "ipython",
    "version": 3
   },
   "file_extension": ".py",
   "mimetype": "text/x-python",
   "name": "python",
   "nbconvert_exporter": "python",
   "pygments_lexer": "ipython3",
   "version": "3.7.7"
  }
 },
 "nbformat": 4,
 "nbformat_minor": 4
}
